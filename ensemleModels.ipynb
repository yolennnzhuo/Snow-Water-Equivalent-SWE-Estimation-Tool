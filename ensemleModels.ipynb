{
 "cells": [
  {
   "cell_type": "code",
   "execution_count": 1,
   "metadata": {},
   "outputs": [],
   "source": [
    "from predictLSTM import predictLSTM\n",
    "import tool\n",
    "from sweDataset import sweDataset\n",
    "import torch\n",
    "import pandas as pd\n",
    "import numpy as np"
   ]
  },
  {
   "cell_type": "code",
   "execution_count": 2,
   "metadata": {},
   "outputs": [],
   "source": [
    "folder_path = '/Users/yz6622/Desktop/IRP/dataset/swiss_station/Preprocessed_data/'"
   ]
  },
  {
   "cell_type": "code",
   "execution_count": 3,
   "metadata": {},
   "outputs": [],
   "source": [
    "# Define variables\n",
    "train_file_path = folder_path + 'train.csv'\n",
    "test_file_path = folder_path + 'test.csv'\n",
    "var = ['HS']\n",
    "ts = 30\n",
    "\n",
    "# read data\n",
    "df = pd.read_csv(train_file_path)\n",
    "df_test = pd.read_csv(test_file_path)"
   ]
  },
  {
   "cell_type": "code",
   "execution_count": 20,
   "metadata": {},
   "outputs": [],
   "source": [
    "df = tool.inverse_scale(df)\n",
    "df_test = tool.inverse_scale(df_test)"
   ]
  },
  {
   "cell_type": "code",
   "execution_count": 4,
   "metadata": {},
   "outputs": [],
   "source": [
    "df_norway = df[df['loc'].str.startswith('norway')]\n",
    "norway_df_test = df_test[df_test['loc'].str.startswith('norway')]\n",
    "df_canada = df[df['loc'].str.startswith('canada')]\n",
    "canada_df_test = df_test[df_test['loc'].str.startswith('canada')]\n",
    "df_swi = df[(df['loc'].str.startswith('gps')) | (df['loc']=='wfj')]\n",
    "swi_df_test = df[df['loc']=='klo']"
   ]
  },
  {
   "cell_type": "code",
   "execution_count": 22,
   "metadata": {},
   "outputs": [
    {
     "name": "stderr",
     "output_type": "stream",
     "text": [
      "/var/folders/5m/bhjjh_l15ng7p2l7swm_bkzh0000gp/T/ipykernel_50014/3233331708.py:4: SettingWithCopyWarning: \n",
      "A value is trying to be set on a copy of a slice from a DataFrame.\n",
      "Try using .loc[row_indexer,col_indexer] = value instead\n",
      "\n",
      "See the caveats in the documentation: https://pandas.pydata.org/pandas-docs/stable/user_guide/indexing.html#returning-a-view-versus-a-copy\n",
      "  sub_df['temperature'], scaler_temp = tool.standardise_data(np.array(sub_df['temperature']).reshape(-1,1), 'train')\n",
      "/var/folders/5m/bhjjh_l15ng7p2l7swm_bkzh0000gp/T/ipykernel_50014/3233331708.py:5: SettingWithCopyWarning: \n",
      "A value is trying to be set on a copy of a slice from a DataFrame.\n",
      "Try using .loc[row_indexer,col_indexer] = value instead\n",
      "\n",
      "See the caveats in the documentation: https://pandas.pydata.org/pandas-docs/stable/user_guide/indexing.html#returning-a-view-versus-a-copy\n",
      "  sub_df[['HS','precipitation','snowfall','solar_radiation','rain','month']], scaler_minmax = tool.minmax_data(sub_df[['HS','precipitation','snowfall','solar_radiation','rain','month']], 'train')\n",
      "/var/folders/5m/bhjjh_l15ng7p2l7swm_bkzh0000gp/T/ipykernel_50014/3233331708.py:6: SettingWithCopyWarning: \n",
      "A value is trying to be set on a copy of a slice from a DataFrame.\n",
      "Try using .loc[row_indexer,col_indexer] = value instead\n",
      "\n",
      "See the caveats in the documentation: https://pandas.pydata.org/pandas-docs/stable/user_guide/indexing.html#returning-a-view-versus-a-copy\n",
      "  sub_df['station_SWE'], scaler_y = tool.minmax_data(np.array(sub_df['station_SWE']).reshape(-1,1), 'train')\n",
      "/var/folders/5m/bhjjh_l15ng7p2l7swm_bkzh0000gp/T/ipykernel_50014/3233331708.py:11: SettingWithCopyWarning: \n",
      "A value is trying to be set on a copy of a slice from a DataFrame.\n",
      "Try using .loc[row_indexer,col_indexer] = value instead\n",
      "\n",
      "See the caveats in the documentation: https://pandas.pydata.org/pandas-docs/stable/user_guide/indexing.html#returning-a-view-versus-a-copy\n",
      "  sub_df_test['temperature'], _ = tool.standardise_data(np.array(sub_df_test['temperature']).reshape(-1,1), 'test', scaler_temp)\n",
      "/opt/homebrew/Caskroom/miniconda/base/envs/bda/lib/python3.10/site-packages/sklearn/base.py:432: UserWarning: X has feature names, but MinMaxScaler was fitted without feature names\n",
      "  warnings.warn(\n",
      "/var/folders/5m/bhjjh_l15ng7p2l7swm_bkzh0000gp/T/ipykernel_50014/3233331708.py:12: SettingWithCopyWarning: \n",
      "A value is trying to be set on a copy of a slice from a DataFrame.\n",
      "Try using .loc[row_indexer,col_indexer] = value instead\n",
      "\n",
      "See the caveats in the documentation: https://pandas.pydata.org/pandas-docs/stable/user_guide/indexing.html#returning-a-view-versus-a-copy\n",
      "  sub_df_test[['HS','precipitation','snowfall','solar_radiation','rain','month']], _ = tool.minmax_data(sub_df_test[['HS','precipitation','snowfall','solar_radiation','rain','month']], 'test', scaler_minmax)\n",
      "/var/folders/5m/bhjjh_l15ng7p2l7swm_bkzh0000gp/T/ipykernel_50014/3233331708.py:13: SettingWithCopyWarning: \n",
      "A value is trying to be set on a copy of a slice from a DataFrame.\n",
      "Try using .loc[row_indexer,col_indexer] = value instead\n",
      "\n",
      "See the caveats in the documentation: https://pandas.pydata.org/pandas-docs/stable/user_guide/indexing.html#returning-a-view-versus-a-copy\n",
      "  sub_df_test['station_SWE'], _ = tool.minmax_data(np.array(sub_df_test['station_SWE']).reshape(-1,1), 'test', scaler_y)\n",
      "/var/folders/5m/bhjjh_l15ng7p2l7swm_bkzh0000gp/T/ipykernel_50014/3233331708.py:4: SettingWithCopyWarning: \n",
      "A value is trying to be set on a copy of a slice from a DataFrame.\n",
      "Try using .loc[row_indexer,col_indexer] = value instead\n",
      "\n",
      "See the caveats in the documentation: https://pandas.pydata.org/pandas-docs/stable/user_guide/indexing.html#returning-a-view-versus-a-copy\n",
      "  sub_df['temperature'], scaler_temp = tool.standardise_data(np.array(sub_df['temperature']).reshape(-1,1), 'train')\n",
      "/var/folders/5m/bhjjh_l15ng7p2l7swm_bkzh0000gp/T/ipykernel_50014/3233331708.py:5: SettingWithCopyWarning: \n",
      "A value is trying to be set on a copy of a slice from a DataFrame.\n",
      "Try using .loc[row_indexer,col_indexer] = value instead\n",
      "\n",
      "See the caveats in the documentation: https://pandas.pydata.org/pandas-docs/stable/user_guide/indexing.html#returning-a-view-versus-a-copy\n",
      "  sub_df[['HS','precipitation','snowfall','solar_radiation','rain','month']], scaler_minmax = tool.minmax_data(sub_df[['HS','precipitation','snowfall','solar_radiation','rain','month']], 'train')\n",
      "/var/folders/5m/bhjjh_l15ng7p2l7swm_bkzh0000gp/T/ipykernel_50014/3233331708.py:6: SettingWithCopyWarning: \n",
      "A value is trying to be set on a copy of a slice from a DataFrame.\n",
      "Try using .loc[row_indexer,col_indexer] = value instead\n",
      "\n",
      "See the caveats in the documentation: https://pandas.pydata.org/pandas-docs/stable/user_guide/indexing.html#returning-a-view-versus-a-copy\n",
      "  sub_df['station_SWE'], scaler_y = tool.minmax_data(np.array(sub_df['station_SWE']).reshape(-1,1), 'train')\n",
      "/var/folders/5m/bhjjh_l15ng7p2l7swm_bkzh0000gp/T/ipykernel_50014/3233331708.py:11: SettingWithCopyWarning: \n",
      "A value is trying to be set on a copy of a slice from a DataFrame.\n",
      "Try using .loc[row_indexer,col_indexer] = value instead\n",
      "\n",
      "See the caveats in the documentation: https://pandas.pydata.org/pandas-docs/stable/user_guide/indexing.html#returning-a-view-versus-a-copy\n",
      "  sub_df_test['temperature'], _ = tool.standardise_data(np.array(sub_df_test['temperature']).reshape(-1,1), 'test', scaler_temp)\n",
      "/opt/homebrew/Caskroom/miniconda/base/envs/bda/lib/python3.10/site-packages/sklearn/base.py:432: UserWarning: X has feature names, but MinMaxScaler was fitted without feature names\n",
      "  warnings.warn(\n",
      "/var/folders/5m/bhjjh_l15ng7p2l7swm_bkzh0000gp/T/ipykernel_50014/3233331708.py:12: SettingWithCopyWarning: \n",
      "A value is trying to be set on a copy of a slice from a DataFrame.\n",
      "Try using .loc[row_indexer,col_indexer] = value instead\n",
      "\n",
      "See the caveats in the documentation: https://pandas.pydata.org/pandas-docs/stable/user_guide/indexing.html#returning-a-view-versus-a-copy\n",
      "  sub_df_test[['HS','precipitation','snowfall','solar_radiation','rain','month']], _ = tool.minmax_data(sub_df_test[['HS','precipitation','snowfall','solar_radiation','rain','month']], 'test', scaler_minmax)\n",
      "/var/folders/5m/bhjjh_l15ng7p2l7swm_bkzh0000gp/T/ipykernel_50014/3233331708.py:13: SettingWithCopyWarning: \n",
      "A value is trying to be set on a copy of a slice from a DataFrame.\n",
      "Try using .loc[row_indexer,col_indexer] = value instead\n",
      "\n",
      "See the caveats in the documentation: https://pandas.pydata.org/pandas-docs/stable/user_guide/indexing.html#returning-a-view-versus-a-copy\n",
      "  sub_df_test['station_SWE'], _ = tool.minmax_data(np.array(sub_df_test['station_SWE']).reshape(-1,1), 'test', scaler_y)\n",
      "/var/folders/5m/bhjjh_l15ng7p2l7swm_bkzh0000gp/T/ipykernel_50014/3233331708.py:4: SettingWithCopyWarning: \n",
      "A value is trying to be set on a copy of a slice from a DataFrame.\n",
      "Try using .loc[row_indexer,col_indexer] = value instead\n",
      "\n",
      "See the caveats in the documentation: https://pandas.pydata.org/pandas-docs/stable/user_guide/indexing.html#returning-a-view-versus-a-copy\n",
      "  sub_df['temperature'], scaler_temp = tool.standardise_data(np.array(sub_df['temperature']).reshape(-1,1), 'train')\n",
      "/var/folders/5m/bhjjh_l15ng7p2l7swm_bkzh0000gp/T/ipykernel_50014/3233331708.py:5: SettingWithCopyWarning: \n",
      "A value is trying to be set on a copy of a slice from a DataFrame.\n",
      "Try using .loc[row_indexer,col_indexer] = value instead\n",
      "\n",
      "See the caveats in the documentation: https://pandas.pydata.org/pandas-docs/stable/user_guide/indexing.html#returning-a-view-versus-a-copy\n",
      "  sub_df[['HS','precipitation','snowfall','solar_radiation','rain','month']], scaler_minmax = tool.minmax_data(sub_df[['HS','precipitation','snowfall','solar_radiation','rain','month']], 'train')\n",
      "/var/folders/5m/bhjjh_l15ng7p2l7swm_bkzh0000gp/T/ipykernel_50014/3233331708.py:6: SettingWithCopyWarning: \n",
      "A value is trying to be set on a copy of a slice from a DataFrame.\n",
      "Try using .loc[row_indexer,col_indexer] = value instead\n",
      "\n",
      "See the caveats in the documentation: https://pandas.pydata.org/pandas-docs/stable/user_guide/indexing.html#returning-a-view-versus-a-copy\n",
      "  sub_df['station_SWE'], scaler_y = tool.minmax_data(np.array(sub_df['station_SWE']).reshape(-1,1), 'train')\n",
      "/var/folders/5m/bhjjh_l15ng7p2l7swm_bkzh0000gp/T/ipykernel_50014/3233331708.py:11: SettingWithCopyWarning: \n",
      "A value is trying to be set on a copy of a slice from a DataFrame.\n",
      "Try using .loc[row_indexer,col_indexer] = value instead\n",
      "\n",
      "See the caveats in the documentation: https://pandas.pydata.org/pandas-docs/stable/user_guide/indexing.html#returning-a-view-versus-a-copy\n",
      "  sub_df_test['temperature'], _ = tool.standardise_data(np.array(sub_df_test['temperature']).reshape(-1,1), 'test', scaler_temp)\n",
      "/opt/homebrew/Caskroom/miniconda/base/envs/bda/lib/python3.10/site-packages/sklearn/base.py:432: UserWarning: X has feature names, but MinMaxScaler was fitted without feature names\n",
      "  warnings.warn(\n",
      "/var/folders/5m/bhjjh_l15ng7p2l7swm_bkzh0000gp/T/ipykernel_50014/3233331708.py:12: SettingWithCopyWarning: \n",
      "A value is trying to be set on a copy of a slice from a DataFrame.\n",
      "Try using .loc[row_indexer,col_indexer] = value instead\n",
      "\n",
      "See the caveats in the documentation: https://pandas.pydata.org/pandas-docs/stable/user_guide/indexing.html#returning-a-view-versus-a-copy\n",
      "  sub_df_test[['HS','precipitation','snowfall','solar_radiation','rain','month']], _ = tool.minmax_data(sub_df_test[['HS','precipitation','snowfall','solar_radiation','rain','month']], 'test', scaler_minmax)\n",
      "/var/folders/5m/bhjjh_l15ng7p2l7swm_bkzh0000gp/T/ipykernel_50014/3233331708.py:13: SettingWithCopyWarning: \n",
      "A value is trying to be set on a copy of a slice from a DataFrame.\n",
      "Try using .loc[row_indexer,col_indexer] = value instead\n",
      "\n",
      "See the caveats in the documentation: https://pandas.pydata.org/pandas-docs/stable/user_guide/indexing.html#returning-a-view-versus-a-copy\n",
      "  sub_df_test['station_SWE'], _ = tool.minmax_data(np.array(sub_df_test['station_SWE']).reshape(-1,1), 'test', scaler_y)\n"
     ]
    }
   ],
   "source": [
    "scaler_y_dict={}\n",
    "for countries, sub_df, sub_df_test in zip([1,2,3], [df_norway,df_canada,df_swi], [norway_df_test,canada_df_test,swi_df_test]):\n",
    "    # Standardize specific columns\n",
    "    sub_df['temperature'], scaler_temp = tool.standardise_data(np.array(sub_df['temperature']).reshape(-1,1), 'train')\n",
    "    sub_df[['HS','precipitation','snowfall','solar_radiation','rain','month']], scaler_minmax = tool.minmax_data(sub_df[['HS','precipitation','snowfall','solar_radiation','rain','month']], 'train')\n",
    "    sub_df['station_SWE'], scaler_y = tool.minmax_data(np.array(sub_df['station_SWE']).reshape(-1,1), 'train')\n",
    "    # Save the scaler to dictionary\n",
    "    scaler_y_dict[countries] = scaler_y\n",
    "    \n",
    "    # Apply the same scaling to test set\n",
    "    sub_df_test['temperature'], _ = tool.standardise_data(np.array(sub_df_test['temperature']).reshape(-1,1), 'test', scaler_temp)\n",
    "    sub_df_test[['HS','precipitation','snowfall','solar_radiation','rain','month']], _ = tool.minmax_data(sub_df_test[['HS','precipitation','snowfall','solar_radiation','rain','month']], 'test', scaler_minmax)\n",
    "    sub_df_test['station_SWE'], _ = tool.minmax_data(np.array(sub_df_test['station_SWE']).reshape(-1,1), 'test', scaler_y)"
   ]
  },
  {
   "cell_type": "code",
   "execution_count": 23,
   "metadata": {},
   "outputs": [
    {
     "name": "stderr",
     "output_type": "stream",
     "text": [
      "/Users/yz6622/Desktop/IRP/LSTM/tool.py:112: SettingWithCopyWarning: \n",
      "A value is trying to be set on a copy of a slice from a DataFrame.\n",
      "Try using .loc[row_indexer,col_indexer] = value instead\n",
      "\n",
      "See the caveats in the documentation: https://pandas.pydata.org/pandas-docs/stable/user_guide/indexing.html#returning-a-view-versus-a-copy\n",
      "  loc_df['date'] = pd.to_datetime(loc_df['date'])\n",
      "/Users/yz6622/Desktop/IRP/LSTM/tool.py:112: SettingWithCopyWarning: \n",
      "A value is trying to be set on a copy of a slice from a DataFrame.\n",
      "Try using .loc[row_indexer,col_indexer] = value instead\n",
      "\n",
      "See the caveats in the documentation: https://pandas.pydata.org/pandas-docs/stable/user_guide/indexing.html#returning-a-view-versus-a-copy\n",
      "  loc_df['date'] = pd.to_datetime(loc_df['date'])\n",
      "/Users/yz6622/Desktop/IRP/LSTM/tool.py:112: SettingWithCopyWarning: \n",
      "A value is trying to be set on a copy of a slice from a DataFrame.\n",
      "Try using .loc[row_indexer,col_indexer] = value instead\n",
      "\n",
      "See the caveats in the documentation: https://pandas.pydata.org/pandas-docs/stable/user_guide/indexing.html#returning-a-view-versus-a-copy\n",
      "  loc_df['date'] = pd.to_datetime(loc_df['date'])\n"
     ]
    }
   ],
   "source": [
    "input_data, target_data = tool.rebuild_data(canada_df_test, ['HS'], ts=30)"
   ]
  },
  {
   "cell_type": "code",
   "execution_count": 24,
   "metadata": {},
   "outputs": [],
   "source": [
    "def rename_keys(model_path):\n",
    "    # Load the original state dict\n",
    "    state_dict = torch.load(model_path)\n",
    "\n",
    "    # Create a new dictionary with the renamed keys\n",
    "    new_state_dict = {}\n",
    "    for key, value in state_dict.items():\n",
    "        # Rename the keys here\n",
    "        new_key = key.replace(\"lstm1\", \"lstm_layers.0\").replace(\"lstm2\", \"lstm_layers.1\")\n",
    "        new_state_dict[new_key] = value\n",
    "\n",
    "    # Save the modified state dict\n",
    "    torch.save(new_state_dict, model_path)"
   ]
  },
  {
   "cell_type": "code",
   "execution_count": 9,
   "metadata": {},
   "outputs": [],
   "source": [
    "rename_keys(\"/Users/yz6622/Desktop/IRP/models/global_model.pth\")\n",
    "rename_keys(\"/Users/yz6622/Desktop/IRP/models/model_norway.pth\")\n",
    "rename_keys(\"/Users/yz6622/Desktop/IRP/models/model_switzerland.pth\")\n",
    "rename_keys(\"/Users/yz6622/Desktop/IRP/models/model_canada.pth\")\n"
   ]
  },
  {
   "cell_type": "code",
   "execution_count": 10,
   "metadata": {},
   "outputs": [],
   "source": [
    "# Create ensemble models\n",
    "ensemble_model = predictLSTM(\"/Users/yz6622/Desktop/IRP/models/model_canada.pth\")"
   ]
  },
  {
   "cell_type": "code",
   "execution_count": 11,
   "metadata": {},
   "outputs": [],
   "source": [
    "# Add models for different counties\n",
    "for country in ['canada', 'switzerland', 'norway']:\n",
    "    model_path = f'/Users/yz6622/Desktop/IRP/models/model_{country}.pth'\n",
    "    ensemble_model.add_country_model(country, model_path)\n"
   ]
  },
  {
   "cell_type": "code",
   "execution_count": 5,
   "metadata": {},
   "outputs": [
    {
     "ename": "ValueError",
     "evalue": "The truth value of a DataFrame is ambiguous. Use a.empty, a.bool(), a.item(), a.any() or a.all().",
     "output_type": "error",
     "traceback": [
      "\u001b[0;31m---------------------------------------------------------------------------\u001b[0m",
      "\u001b[0;31mValueError\u001b[0m                                Traceback (most recent call last)",
      "\u001b[0;32m/var/folders/5m/bhjjh_l15ng7p2l7swm_bkzh0000gp/T/ipykernel_53150/1470762446.py\u001b[0m in \u001b[0;36m?\u001b[0;34m()\u001b[0m\n\u001b[0;32m----> 1\u001b[0;31m \u001b[0mdataset\u001b[0m\u001b[0;34m=\u001b[0m\u001b[0msweDataset\u001b[0m\u001b[0;34m(\u001b[0m\u001b[0mdf\u001b[0m\u001b[0;34m=\u001b[0m\u001b[0mdf_canada\u001b[0m\u001b[0;34m,\u001b[0m \u001b[0mdf_test\u001b[0m\u001b[0;34m=\u001b[0m\u001b[0mcanada_df_test\u001b[0m\u001b[0;34m,\u001b[0m \u001b[0mvar\u001b[0m\u001b[0;34m=\u001b[0m\u001b[0mvar\u001b[0m\u001b[0;34m,\u001b[0m \u001b[0mts\u001b[0m\u001b[0;34m=\u001b[0m\u001b[0mts\u001b[0m\u001b[0;34m)\u001b[0m\u001b[0;34m\u001b[0m\u001b[0;34m\u001b[0m\u001b[0m\n\u001b[0m",
      "\u001b[0;32m~/Desktop/IRP/LSTM/sweDataset.py\u001b[0m in \u001b[0;36m?\u001b[0;34m(self, df, df_test, train_file, test_file, var, ts)\u001b[0m\n\u001b[1;32m     34\u001b[0m         \"\"\"\n\u001b[1;32m     35\u001b[0m         \u001b[0;31m# Read data\u001b[0m\u001b[0;34m\u001b[0m\u001b[0;34m\u001b[0m\u001b[0m\n\u001b[1;32m     36\u001b[0m         \u001b[0;32mif\u001b[0m \u001b[0mtrain_file\u001b[0m \u001b[0;32mand\u001b[0m \u001b[0;32mnot\u001b[0m \u001b[0mdf\u001b[0m\u001b[0;34m:\u001b[0m\u001b[0;34m\u001b[0m\u001b[0;34m\u001b[0m\u001b[0m\n\u001b[1;32m     37\u001b[0m             \u001b[0mself\u001b[0m\u001b[0;34m.\u001b[0m\u001b[0mdf\u001b[0m \u001b[0;34m=\u001b[0m \u001b[0mpd\u001b[0m\u001b[0;34m.\u001b[0m\u001b[0mread_csv\u001b[0m\u001b[0;34m(\u001b[0m\u001b[0mtrain_file\u001b[0m\u001b[0;34m)\u001b[0m\u001b[0;34m\u001b[0m\u001b[0;34m\u001b[0m\u001b[0m\n\u001b[0;32m---> 38\u001b[0;31m         \u001b[0;32melif\u001b[0m \u001b[0mdf\u001b[0m \u001b[0;32mand\u001b[0m \u001b[0;32mnot\u001b[0m \u001b[0mtrain_file\u001b[0m\u001b[0;34m:\u001b[0m\u001b[0;34m\u001b[0m\u001b[0;34m\u001b[0m\u001b[0m\n\u001b[0m\u001b[1;32m     39\u001b[0m             \u001b[0mself\u001b[0m\u001b[0;34m.\u001b[0m\u001b[0mdf\u001b[0m \u001b[0;34m=\u001b[0m \u001b[0mdf\u001b[0m\u001b[0;34m\u001b[0m\u001b[0;34m\u001b[0m\u001b[0m\n\u001b[1;32m     40\u001b[0m         \u001b[0;32melif\u001b[0m \u001b[0mdf\u001b[0m \u001b[0;32mand\u001b[0m \u001b[0mtrain_file\u001b[0m\u001b[0;34m:\u001b[0m\u001b[0;34m\u001b[0m\u001b[0;34m\u001b[0m\u001b[0m\n\u001b[1;32m     41\u001b[0m             \u001b[0;32mraise\u001b[0m \u001b[0mValueError\u001b[0m\u001b[0;34m(\u001b[0m\u001b[0;34m\"The input dataframe and file path are both provided, can only process one.\"\u001b[0m\u001b[0;34m)\u001b[0m\u001b[0;34m\u001b[0m\u001b[0;34m\u001b[0m\u001b[0m\n",
      "\u001b[0;32m/opt/homebrew/Caskroom/miniconda/base/envs/bda/lib/python3.10/site-packages/pandas/core/generic.py\u001b[0m in \u001b[0;36m?\u001b[0;34m(self)\u001b[0m\n\u001b[1;32m   1525\u001b[0m     \u001b[0;34m@\u001b[0m\u001b[0mfinal\u001b[0m\u001b[0;34m\u001b[0m\u001b[0;34m\u001b[0m\u001b[0m\n\u001b[1;32m   1526\u001b[0m     \u001b[0;32mdef\u001b[0m \u001b[0m__nonzero__\u001b[0m\u001b[0;34m(\u001b[0m\u001b[0mself\u001b[0m\u001b[0;34m)\u001b[0m \u001b[0;34m->\u001b[0m \u001b[0mNoReturn\u001b[0m\u001b[0;34m:\u001b[0m\u001b[0;34m\u001b[0m\u001b[0;34m\u001b[0m\u001b[0m\n\u001b[0;32m-> 1527\u001b[0;31m         raise ValueError(\n\u001b[0m\u001b[1;32m   1528\u001b[0m             \u001b[0;34mf\"The truth value of a {type(self).__name__} is ambiguous. \"\u001b[0m\u001b[0;34m\u001b[0m\u001b[0;34m\u001b[0m\u001b[0m\n\u001b[1;32m   1529\u001b[0m             \u001b[0;34m\"Use a.empty, a.bool(), a.item(), a.any() or a.all().\"\u001b[0m\u001b[0;34m\u001b[0m\u001b[0;34m\u001b[0m\u001b[0m\n\u001b[1;32m   1530\u001b[0m         )\n",
      "\u001b[0;31mValueError\u001b[0m: The truth value of a DataFrame is ambiguous. Use a.empty, a.bool(), a.item(), a.any() or a.all()."
     ]
    }
   ],
   "source": [
    "dataset=sweDataset(df=df_canada, df_test=canada_df_test, var=var, ts=ts)"
   ]
  },
  {
   "cell_type": "code",
   "execution_count": 16,
   "metadata": {},
   "outputs": [],
   "source": [
    "country_prediction = ensemble_model.predict_by_country('canada', input_data)"
   ]
  },
  {
   "cell_type": "code",
   "execution_count": null,
   "metadata": {},
   "outputs": [],
   "source": [
    "# Add models for different snow class\n",
    "for snow_class in [1, 3, 6]:\n",
    "    model_path = f'/Users/yz6622/Desktop/IRP/models/model_sc_{snow_class}.pth' \n",
    "    ensemble_model.add_snowclass_model(snow_class, model_path)"
   ]
  }
 ],
 "metadata": {
  "kernelspec": {
   "display_name": "bda",
   "language": "python",
   "name": "python3"
  },
  "language_info": {
   "codemirror_mode": {
    "name": "ipython",
    "version": 3
   },
   "file_extension": ".py",
   "mimetype": "text/x-python",
   "name": "python",
   "nbconvert_exporter": "python",
   "pygments_lexer": "ipython3",
   "version": "3.10.11"
  },
  "orig_nbformat": 4
 },
 "nbformat": 4,
 "nbformat_minor": 2
}
